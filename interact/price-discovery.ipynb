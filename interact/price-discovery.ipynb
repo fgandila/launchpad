{
 "cells": [
  {
   "cell_type": "code",
   "execution_count": 1,
   "metadata": {},
   "outputs": [
    {
     "name": "stderr",
     "output_type": "stream",
     "text": [
      "\u001b[93m2025-02-17 09:47:04,173 - WARNING - Structure definition for stakings_boosted not found in /home/multiversx/Documents/mock_fwk/dex_deploy/configs-mainnet/deploy_structure.json\u001b[0m\n"
     ]
    },
    {
     "name": "stdout",
     "output_type": "stream",
     "text": [
      "loaded 1 accounts from 1 PEM files.\n"
     ]
    },
    {
     "name": "stderr",
     "output_type": "stream",
     "text": [
      "\u001b[38;20m2025-02-17 09:47:04,467 - DEBUG - Account.sync_nonce() done: 0\u001b[0m\n",
      "\u001b[38;20m2025-02-17 09:47:04,623 - DEBUG - Account.sync_nonce() done: 0\u001b[0m\n",
      "\u001b[92m2025-02-17 09:47:04,624 - INFO - Loaded 10 tokens.\u001b[0m\n",
      "\u001b[38;20m2025-02-17 09:47:04,805 - DEBUG - Account.sync_nonce() done: 0\u001b[0m\n",
      "\u001b[92m2025-02-17 09:47:04,806 - INFO - Loaded 0 stakings_boosted.\u001b[0m\n",
      "\u001b[38;20m2025-02-17 09:47:04,897 - DEBUG - Account.sync_nonce() done: 0\u001b[0m\n",
      "\u001b[92m2025-02-17 09:47:04,898 - INFO - Deployed contracts below:\u001b[0m\n",
      "\u001b[92m2025-02-17 09:47:04,899 - INFO - stakings_boosted:\u001b[0m\n"
     ]
    },
    {
     "name": "stdout",
     "output_type": "stream",
     "text": [
      "\n"
     ]
    }
   ],
   "source": [
    "import sys\n",
    "from pathlib import Path\n",
    "sys.path.append(str(Path.cwd().parent.absolute()))\n",
    "import config\n",
    "import time\n",
    "from context import Context\n",
    "from multiversx_sdk.core import Address, AddressComputer\n",
    "from multiversx_sdk.core import SmartContractTransactionsFactory\n",
    "from multiversx_sdk.core import TransactionsFactoryConfig\n",
    "from multiversx_sdk import ProxyNetworkProvider\n",
    "from multiversx_sdk.core import TokenPayment, TokenComputer\n",
    "from utils.utils_chain import WrapperAddress as Address, Account\n",
    "from utils.utils_tx import endpoint_call\n",
    "from contracts.price_discovery_contract import PriceDiscoveryContract\n",
    "from multiversx_sdk.abi import Abi\n",
    "\n",
    "context = Context()\n",
    "\n",
    "\n",
    "proxy = ProxyNetworkProvider(config.devnet)\n",
    "network_config = proxy.get_network_config()\n",
    "net = \"devnet\" if \"devnet\" in proxy.url else \"testnet\" if \"testnet\" in proxy.url else \"mainnet\"\n",
    "abi = Abi.load(Path(\n",
    "    \"/home/multiversx/Documents/mock_fwk/wasm/price-discovery/price-discovery.abi.json\"\n",
    "))\n",
    "factory = SmartContractTransactionsFactory(TransactionsFactoryConfig(network_config.chain_id), abi)\n",
    "\n",
    "factory_config = TransactionsFactoryConfig(network_config.chain_id)\n",
    "# transactions_factory = SmartContractTransactionsFactory(factory_config, abi)\n",
    "\n"
   ]
  },
  {
   "cell_type": "markdown",
   "metadata": {},
   "source": [
    "# SETUP"
   ]
  },
  {
   "cell_type": "code",
   "execution_count": 2,
   "metadata": {},
   "outputs": [
    {
     "name": "stderr",
     "output_type": "stream",
     "text": [
      "\u001b[38;20m2025-02-17 09:47:06,947 - DEBUG - Account.sync_nonce() done: 5652\u001b[0m\n"
     ]
    }
   ],
   "source": [
    "launched_token_id = \"TKNZPWA-f0763d\"\n",
    "accepted_token_id = \"TKNZPWA-a8b1bc\"\n",
    "\n",
    "user_min_deposit: int = 900000\n",
    "admin = \"erd1zpwadzzylule6njjtrrhf0hcysak23a76983tq6j7hddn66edr6q9qjytp\"\n",
    "\n",
    "deployer = Account(pem_file=config.DEFAULT_OWNER) \n",
    "deployer.sync_nonce(context.network_provider.proxy)\n",
    "deployer_shard = AddressComputer().get_shard_of_address(deployer.address)\n",
    "\n"
   ]
  },
  {
   "cell_type": "code",
   "execution_count": 18,
   "metadata": {},
   "outputs": [
    {
     "name": "stdout",
     "output_type": "stream",
     "text": [
      "Start round calculation below:\n",
      "Calculating from block: 7519740 round: 7590844 shard: 0\n",
      "Current date: 2025-02-14 16:57:44 (timestamp of last produced block)\n",
      "Target date: 2025-02-14 17:25:00\n",
      "Target time: 1739546700\n",
      "1739546700\n",
      "===========================================\n",
      "User deposit end round calculation below:\n",
      "Calculating from block: 7519740 round: 7590844 shard: 0\n",
      "Current date: 2025-02-14 16:57:44 (timestamp of last produced block)\n",
      "Target date: 2025-02-14 17:30:00\n",
      "Target time: 1739547000\n",
      "1739547000\n",
      "Seconds untill user deposit time ends: 300\n",
      "===========================================\n",
      "Owner deposit end round calculation below:\n",
      "Calculating from block: 7519740 round: 7590844 shard: 0\n",
      "Current date: 2025-02-14 16:57:44 (timestamp of last produced block)\n",
      "Target date: 2025-02-14 17:40:00\n",
      "Target time: 1739547600\n",
      "1739547600\n",
      "Seconds untill owner deposit time ends: 600\n"
     ]
    }
   ],
   "source": [
    "from utils import blocktime\n",
    "\n",
    "\n",
    "start_time: int = \"25/02/10 11:25\"\n",
    "user_deposit_withdraw_time: int = \"25/02/17 10:30\"\n",
    "owner_deposit_withdraw_time: int = \"25/02/17 10:40\"\n",
    "\n",
    "print(f\"Start round calculation below:\")\n",
    "_, start_round , start_timestamp = blocktime.main([f\"--net={net}\", f\"--shard={deployer_shard}\", f\"--date={start_time}\"])\n",
    "print(start_timestamp)\n",
    "\n",
    "print(\"===========================================\")\n",
    "print(f\"User deposit end round calculation below:\")\n",
    "_, start_round, user_deposit_timestamp = blocktime.main([f\"--net={net}\", f\"--shard={deployer_shard}\", f\"--date={user_deposit_withdraw_time}\"])\n",
    "print(user_deposit_timestamp)\n",
    "user_deposit_time = user_deposit_timestamp-start_timestamp\n",
    "print(\"Seconds untill user deposit time ends:\", user_deposit_timestamp-start_timestamp)\n",
    "\n",
    "print(\"===========================================\")\n",
    "print(f\"Owner deposit end round calculation below:\")\n",
    "_, start_round, owner_deposit_timestamp = blocktime.main([f\"--net={net}\", f\"--shard={deployer_shard}\", f\"--date={owner_deposit_withdraw_time}\"])\n",
    "print(owner_deposit_timestamp)\n",
    "owner_deposit_time = owner_deposit_timestamp-user_deposit_timestamp\n",
    "print(\"Seconds untill owner deposit time ends:\", owner_deposit_time)\n",
    "\n"
   ]
  },
  {
   "cell_type": "markdown",
   "metadata": {},
   "source": [
    "# DEPLOY"
   ]
  },
  {
   "cell_type": "code",
   "execution_count": 19,
   "metadata": {},
   "outputs": [
    {
     "name": "stdout",
     "output_type": "stream",
     "text": [
      "Contract deployed at address: erd1qqqqqqqqqqqqqpgqhtn0fxs4wjf3zm4j09ye8wjrxwvx2wx6dr6qs6cny6\n"
     ]
    }
   ],
   "source": [
    "contract = PriceDiscoveryContract(launched_token_id, accepted_token_id,\"\",start_timestamp, user_deposit_timestamp, owner_deposit_timestamp,user_min_deposit,admin)\n",
    "args = [\n",
    "        launched_token_id, \n",
    "        accepted_token_id,\n",
    "        18,\n",
    "        start_timestamp,\n",
    "        user_deposit_time,\n",
    "        owner_deposit_time,\n",
    "        user_min_deposit,\n",
    "        deployer.address\n",
    "        ]\n",
    "# provider = ProxyNetworkProvider(config.DEFAULT_PROXY) \n",
    "# deployer.address = Address.from_bech32(\"erd1wwx5zhmx9mag9k8zuajj8c9zce6mzerfr3m9ck6l7c00dwkq2a2ssyfnzk\")\n",
    "# tx = contract.contract_deploy(deployer, context.network_provider.proxy, config.PRICE_DISCOVERY_BYTECODE_PATH, [])\n",
    "# tx = \"1b3dacf1507ef888a8f1bd86e2749d23ec7d3b83106f7cb608a961bb465116ba\"\n",
    "# tx_status = context.network_provider.check_simple_tx_status(tx)\n",
    "\n",
    "tx = factory.create_transaction_for_deploy(deployer.address, config.PRICE_DISCOVERY_BYTECODE_PATH, 150000000, arguments=args)\n",
    "tx.nonce = deployer.nonce\n",
    "tx.signature = deployer.sign_transaction(tx)\n",
    "\n",
    "hash = proxy.send_transaction(tx)\n",
    "deployer.nonce += 1\n",
    "time.sleep(6)\n",
    "if proxy.get_transaction_status(hash).is_failed():\n",
    "    raise Exception(f\"Transaction failed: {hash}\")\n",
    "\n",
    "receipt = proxy.get_transaction(hash)\n",
    "contract_address = receipt.logs.find_first_or_none_event(\"SCDeploy\").address\n",
    "\n",
    "print(f\"Contract deployed at address: {contract_address.to_bech32()}\")\n",
    "\n",
    "contract.address = contract_address.to_bech32()\n"
   ]
  },
  {
   "cell_type": "markdown",
   "metadata": {},
   "source": [
    "# SET CONTRACT DATA"
   ]
  },
  {
   "cell_type": "code",
   "execution_count": 21,
   "metadata": {},
   "outputs": [
    {
     "name": "stderr",
     "output_type": "stream",
     "text": [
      "\u001b[92m2025-02-14 16:59:08,919 - INFO - Deployed price discovery contract: erd1qqqqqqqqqqqqqpgqhtn0fxs4wjf3zm4j09ye8wjrxwvx2wx6dr6qs6cny6\u001b[0m\n",
      "\u001b[92m2025-02-14 16:59:08,920 - INFO -  ├ Redeem token: \u001b[0m\n",
      "\u001b[92m2025-02-14 16:59:08,921 - INFO -  ├ Start time: 1739546700\u001b[0m\n"
     ]
    }
   ],
   "source": [
    "contract = PriceDiscoveryContract(launched_token_id, accepted_token_id,\"\",start_timestamp, user_deposit_timestamp, owner_deposit_timestamp,user_min_deposit,admin)\n",
    "contract.address = \"erd1qqqqqqqqqqqqqpgqhtn0fxs4wjf3zm4j09ye8wjrxwvx2wx6dr6qs6cny6\"\n",
    "# contract.address = Address.new_from_bech32(contract.address)\n",
    "contract.print_contract_info()"
   ]
  },
  {
   "cell_type": "markdown",
   "metadata": {},
   "source": [
    "ISSUE REDEEM TOKEN"
   ]
  },
  {
   "cell_type": "code",
   "execution_count": 22,
   "metadata": {},
   "outputs": [],
   "source": [
    "redeem_token_name = \"REDEEMT\""
   ]
  },
  {
   "cell_type": "code",
   "execution_count": 23,
   "metadata": {},
   "outputs": [
    {
     "name": "stderr",
     "output_type": "stream",
     "text": [
      "\u001b[92m2025-02-14 16:59:30,821 - INFO - Issue price discovery redeem token\u001b[0m\n",
      "\u001b[38;20m2025-02-14 16:59:30,823 - DEBUG - Calling issueRedeemToken at erd1qqqqqqqqqqqqqpgqhtn0fxs4wjf3zm4j09ye8wjrxwvx2wx6dr6qs6cny6\u001b[0m\n",
      "\u001b[38;20m2025-02-14 16:59:30,994 - DEBUG - Contract call arguments: ['REDEEMT', 'REDEEMT', 18]\u001b[0m\n",
      "The transaction builders are deprecated and will be removed in a later release. Use the transaction factories instead.\n",
      "\u001b[92m2025-02-14 16:59:31,168 - INFO - View this transaction in the MultiversX Devnet Explorer: https://devnet-explorer.multiversx.com/transactions/c054f4b10207722282391d4d5dc4a4b1eb05e1ff9db39f2f076b3d291a50d750\u001b[0m\n"
     ]
    },
    {
     "name": "stdout",
     "output_type": "stream",
     "text": [
      "c054f4b10207722282391d4d5dc4a4b1eb05e1ff9db39f2f076b3d291a50d750\n"
     ]
    }
   ],
   "source": [
    "\n",
    "\n",
    "redeem_token = contract.issue_redeem_token(deployer, proxy, redeem_token_name)\n",
    "print(redeem_token)"
   ]
  },
  {
   "cell_type": "markdown",
   "metadata": {},
   "source": [
    "SET TRANSFER ROLE"
   ]
  },
  {
   "cell_type": "code",
   "execution_count": 25,
   "metadata": {},
   "outputs": [
    {
     "name": "stderr",
     "output_type": "stream",
     "text": [
      "\u001b[38;20m2025-02-14 17:00:47,077 - DEBUG - Account.sync_nonce() done: 5651\u001b[0m\n"
     ]
    }
   ],
   "source": [
    "from multiversx_sdk import Address, TransactionComputer\n",
    "\n",
    "user = Account(pem_file=\"/home/multiversx/Documents/mock_fwk/wallet1.pem\")\n",
    "user.sync_nonce(proxy)\n",
    "# contract_address=Address.new_from_bech32(\"erd1qqqqqqqqqqqqqpgqpwe5z60vqmnjluq7cqzdrs3gvsghsy09dr6qt8v32z\")\n",
    "# event = DepositPDLiquidityEvent(launched_token_id, amount)\n",
    "\n",
    "set_transfer_role_farm_token_tx = factory.create_transaction_for_execute(\n",
    "    sender=user.address,\n",
    "    contract=Address.new_from_bech32(contract.address),\n",
    "    function=\"setTransferRole\",\n",
    "    gas_limit=70000000,\n",
    ")\n",
    "\n",
    "set_transfer_role_farm_token_tx.nonce = user.nonce\n",
    "set_transfer_role_farm_token_tx.signature = user.signer.sign(\n",
    "    TransactionComputer().compute_bytes_for_signing(set_transfer_role_farm_token_tx)\n",
    ")\n",
    "\n",
    "result = proxy.send_transaction(set_transfer_role_farm_token_tx)"
   ]
  },
  {
   "cell_type": "markdown",
   "metadata": {},
   "source": [
    "SET MIN LAUNCHED TOKENS"
   ]
  },
  {
   "cell_type": "code",
   "execution_count": 24,
   "metadata": {},
   "outputs": [
    {
     "name": "stderr",
     "output_type": "stream",
     "text": [
      "\u001b[38;20m2025-02-14 17:00:20,042 - DEBUG - Account.sync_nonce() done: 5650\u001b[0m\n"
     ]
    }
   ],
   "source": [
    "from multiversx_sdk import Address, TransactionComputer\n",
    "\n",
    "user = Account(pem_file=\"/home/multiversx/Documents/mock_fwk/wallet1.pem\")\n",
    "user.sync_nonce(proxy)\n",
    "amount = 10000 * 10 ** 18\n",
    "\n",
    "\n",
    "set_min_launched_tx = factory.create_transaction_for_execute(\n",
    "    sender=user.address,\n",
    "    contract=Address.new_from_bech32(contract.address),\n",
    "    function=\"setMinLaunchedTokens\",\n",
    "    gas_limit=70000000,\n",
    "    arguments = [amount]\n",
    ")\n",
    "\n",
    "set_min_launched_tx.nonce = user.nonce\n",
    "set_min_launched_tx.signature = user.signer.sign(\n",
    "    TransactionComputer().compute_bytes_for_signing(set_min_launched_tx)\n",
    ")\n",
    "\n",
    "result = proxy.send_transaction(set_min_launched_tx)"
   ]
  },
  {
   "cell_type": "markdown",
   "metadata": {},
   "source": [
    "CHANGE OWNER"
   ]
  },
  {
   "cell_type": "code",
   "execution_count": null,
   "metadata": {},
   "outputs": [],
   "source": [
    "second_owner = Account(pem_file=config.DEFAULT_ADMIN)\n",
    "second_owner.sync_nonce(proxy)\n",
    "\n",
    "first_owner = Account(pem_file=config.DEFAULT_OWNER)\n",
    "first_owner.sync_nonce(proxy)\n",
    "\n",
    "user = Account(pem_file=config.DEFAULT_ACCOUNTS)\n",
    "user.address = Address(\"erd1zpwadzzylule6njjtrrhf0hcysak23a76983tq6j7hddn66edr6q9qjytp\")\n",
    "user.sync_nonce(proxy)"
   ]
  },
  {
   "cell_type": "code",
   "execution_count": null,
   "metadata": {},
   "outputs": [],
   "source": [
    "hash = endpoint_call(proxy, 50000000, second_owner, contract_address, \n",
    "                     \"ChangeOwnerAddress\", [first_owner.address])"
   ]
  },
  {
   "cell_type": "markdown",
   "metadata": {},
   "source": [
    "# WHITELIST"
   ]
  },
  {
   "cell_type": "code",
   "execution_count": null,
   "metadata": {},
   "outputs": [],
   "source": [
    "whitelisted_address = []\n",
    "whitelisted_address.append(\"erd1my8mcw2fhhsvgtzah7ntr9sdm9zxlamul6uhksyfcvzagemwad7qprplwz\")\n",
    "whitelisted_address.append(\"erd1gvkklm20rk9vg0xnyq0aq3ae3cnle8qxa7eqcevnhfthe5gj9z4s293za5\")\n",
    "\n",
    "deployer.sync_nonce(proxy)\n",
    "contract.add_user_to_whitelist(proxy, deployer, whitelisted_address)"
   ]
  },
  {
   "cell_type": "markdown",
   "metadata": {},
   "source": [
    "# DEPOSIT"
   ]
  },
  {
   "cell_type": "markdown",
   "metadata": {},
   "source": [
    "OWNER DEPOSIT"
   ]
  },
  {
   "cell_type": "code",
   "execution_count": null,
   "metadata": {},
   "outputs": [],
   "source": [
    "from events.price_discovery_events import DepositPDLiquidityEvent\n",
    "\n",
    "user = Account(pem_file=\"/home/multiversx/Documents/mock_fwk/wallet1.pem\")\n",
    "user.sync_nonce(proxy)\n",
    "amount = 10000 * 10 ** 18\n",
    "event = DepositPDLiquidityEvent(launched_token_id, amount)\n",
    "\n",
    "contract.deposit_liquidity(context.network_provider.proxy, user, event)"
   ]
  },
  {
   "cell_type": "markdown",
   "metadata": {},
   "source": [
    "USER DEPOSIT"
   ]
  },
  {
   "cell_type": "code",
   "execution_count": null,
   "metadata": {},
   "outputs": [],
   "source": [
    "from events.price_discovery_events import DepositPDLiquidityEvent\n",
    "\n",
    "user = Account(pem_file=\"/home/multiversx/Documents/mock_fwk/wallet3.pem\")\n",
    "user.sync_nonce(proxy)\n",
    "amount = 100 * 10 ** 18\n",
    "event = DepositPDLiquidityEvent(accepted_token_id, amount)\n",
    "\n",
    "contract.user_deposit(context.network_provider.proxy, user, event)"
   ]
  },
  {
   "cell_type": "markdown",
   "metadata": {},
   "source": [
    "USER WITHDRAW"
   ]
  },
  {
   "cell_type": "code",
   "execution_count": null,
   "metadata": {},
   "outputs": [],
   "source": [
    "from events.price_discovery_events import WithdrawPDLiquidityEvent\n",
    "# contract.address=Address.new_from_bech32(\"erd1qqqqqqqqqqqqqpgqpwe5z60vqmnjluq7cqzdrs3gvsghsy09dr6qt8v32z\")\n",
    "\n",
    "user = Account(pem_file=\"/home/multiversx/Documents/mock_fwk/wallet2.pem\")\n",
    "user.sync_nonce(proxy)\n",
    "amount = 100 * 10 ** 18\n",
    "\n",
    "\n",
    "event = WithdrawPDLiquidityEvent(\"REDEEMT-d05574\",0, amount)\n",
    "\n",
    "contract.user_withdraw(context.network_provider.proxy, user, event)"
   ]
  },
  {
   "cell_type": "markdown",
   "metadata": {},
   "source": [
    "OWNER WITHDRAW"
   ]
  },
  {
   "cell_type": "code",
   "execution_count": null,
   "metadata": {},
   "outputs": [],
   "source": [
    "from events.price_discovery_events import WithdrawPDLiquidityEvent\n",
    "# contract.address=Address.new_from_bech32(\"erd1qqqqqqqqqqqqqpgqpwe5z60vqmnjluq7cqzdrs3gvsghsy09dr6qt8v32z\")\n",
    "\n",
    "user = Account(pem_file=\"/home/multiversx/Documents/mock_fwk/wallet2.pem\")\n",
    "user.sync_nonce(proxy)\n",
    "amount = 100 * 10 ** 18\n",
    "\n",
    "\n",
    "event = WithdrawPDLiquidityEvent(\"TKNZPWA-a8b1bc\",0, amount)\n",
    "\n",
    "contract.withdraw_liquidity(context.network_provider.proxy, user, event)"
   ]
  },
  {
   "cell_type": "markdown",
   "metadata": {},
   "source": [
    "# REDEEM"
   ]
  },
  {
   "cell_type": "code",
   "execution_count": null,
   "metadata": {},
   "outputs": [],
   "source": [
    "from events.price_discovery_events import RedeemPDLPTokensEvent\n",
    "# contract.address=Address.new_from_bech32(\"erd1qqqqqqqqqqqqqpgq87q5q0zannvd7s2jeycw36j9trnyzskydr6qvu3p32\")\n",
    "\n",
    "user = Account(pem_file=\"/home/multiversx/Documents/mock_fwk/wallet3.pem\")\n",
    "user.sync_nonce(proxy)\n",
    "amount = 100 * 10 ** 18\n",
    "\n",
    "\n",
    "event = RedeemPDLPTokensEvent(\"REDEEMT-d05574\",0, amount)\n",
    "\n",
    "contract.redeem_liquidity_position(context.network_provider.proxy, user, event)"
   ]
  },
  {
   "cell_type": "code",
   "execution_count": null,
   "metadata": {},
   "outputs": [],
   "source": [
    "from events.price_discovery_events import RedeemPDLPTokensEvent\n",
    "# contract.address=Address.new_from_bech32(\"erd1qqqqqqqqqqqqqpgq87q5q0zannvd7s2jeycw36j9trnyzskydr6qvu3p32\")\n",
    "\n",
    "user = Account(pem_file=\"/home/multiversx/Documents/mock_fwk/wallet1.pem\")\n",
    "user.sync_nonce(proxy)\n",
    "amount = 100 * 10 ** 18\n",
    "\n",
    "\n",
    "event = RedeemPDLPTokensEvent(accepted_token_id,0, amount)\n",
    "\n",
    "contract.owner_redeem(context.network_provider.proxy, user, event)"
   ]
  },
  {
   "cell_type": "markdown",
   "metadata": {},
   "source": [
    "# SEND TOKENS"
   ]
  },
  {
   "cell_type": "code",
   "execution_count": null,
   "metadata": {},
   "outputs": [],
   "source": [
    "from utils.utils_chain import Account, WrapperAddress\n",
    "from utils.utils_tx import ESDTToken, multi_esdt_transfer\n",
    "\n",
    "# sender = Account(pem_file=config.DEFAULT_ACCOUNTS)\n",
    "\n",
    "# sender.address = WrapperAddress('erd1q3yux0lm7vyutdxyrq7ad762mavurxpuhtuxlwau06eqyr49yknqh6vkk2')\n",
    "receiver = WrapperAddress('erd1my8mcw2fhhsvgtzah7ntr9sdm9zxlamul6uhksyfcvzagemwad7qprplwz')\n",
    "\n",
    "tokens = [\n",
    "    ESDTToken('TKNZPWA-a8b1bc', 0, 10000000000000000000000),\n",
    "]\n",
    "\n",
    "deployer.sync_nonce(context.network_provider.proxy)\n",
    "multi_esdt_transfer(context.network_provider.proxy, 1000000, deployer, receiver, tokens)"
   ]
  },
  {
   "cell_type": "markdown",
   "metadata": {},
   "source": [
    "# REFUND"
   ]
  },
  {
   "cell_type": "code",
   "execution_count": 6,
   "metadata": {},
   "outputs": [
    {
     "name": "stderr",
     "output_type": "stream",
     "text": [
      "\u001b[38;20m2025-02-14 14:49:26,397 - DEBUG - Account.sync_nonce() done: 5647\u001b[0m\n",
      "\u001b[92m2025-02-14 14:49:26,398 - INFO - Refund users\u001b[0m\n",
      "\u001b[38;20m2025-02-14 14:49:26,399 - DEBUG - Account: erd1zpwadzzylule6njjtrrhf0hcysak23a76983tq6j7hddn66edr6q9qjytp\u001b[0m\n"
     ]
    },
    {
     "data": {
      "text/plain": [
       "<multiversx_sdk.network_providers.transaction_status.TransactionStatus at 0x78b43cf51280>"
      ]
     },
     "execution_count": 6,
     "metadata": {},
     "output_type": "execute_result"
    }
   ],
   "source": [
    "from multiversx_sdk import Address\n",
    "\n",
    "users = []\n",
    "users.append((\"erd1my8mcw2fhhsvgtzah7ntr9sdm9zxlamul6uhksyfcvzagemwad7qprplwz\"))\n",
    "users.append(\"erd1gvkklm20rk9vg0xnyq0aq3ae3cnle8qxa7eqcevnhfthe5gj9z4s293za5\")\n",
    "\n",
    "deployer.sync_nonce(proxy)\n",
    "contract.refund_users(proxy, deployer, users)"
   ]
  },
  {
   "cell_type": "markdown",
   "metadata": {},
   "source": [
    "QUERIES"
   ]
  },
  {
   "cell_type": "markdown",
   "metadata": {},
   "source": [
    "IS WHITELISTED"
   ]
  },
  {
   "cell_type": "code",
   "execution_count": 15,
   "metadata": {},
   "outputs": [
    {
     "data": {
      "text/plain": [
       "[True]"
      ]
     },
     "execution_count": 15,
     "metadata": {},
     "output_type": "execute_result"
    }
   ],
   "source": [
    "from multiversx_sdk import Address\n",
    "\n",
    "args = []\n",
    "args.append(Address.new_from_bech32(\"erd1my8mcw2fhhsvgtzah7ntr9sdm9zxlamul6uhksyfcvzagemwad7qprplwz\"))\n",
    "contract.contract_query(proxy,deployer,\"isUserWhitelisted\",args)"
   ]
  },
  {
   "cell_type": "markdown",
   "metadata": {},
   "source": [
    "GET CURRENT PRICE"
   ]
  },
  {
   "cell_type": "code",
   "execution_count": 10,
   "metadata": {},
   "outputs": [
    {
     "data": {
      "text/plain": [
       "[40000000000000000]"
      ]
     },
     "execution_count": 10,
     "metadata": {},
     "output_type": "execute_result"
    }
   ],
   "source": [
    "args = []\n",
    "contract.contract_query(proxy,deployer,\"getCurrentPrice\",args)"
   ]
  },
  {
   "cell_type": "markdown",
   "metadata": {},
   "source": [
    "GET CURRENT PHASE"
   ]
  },
  {
   "cell_type": "code",
   "execution_count": 9,
   "metadata": {},
   "outputs": [
    {
     "data": {
      "text/plain": [
       "[namespace(__discriminant__=3)]"
      ]
     },
     "execution_count": 9,
     "metadata": {},
     "output_type": "execute_result"
    }
   ],
   "source": [
    "args = []\n",
    "contract.contract_query(proxy,deployer,\"getCurrentPhase\",args)"
   ]
  },
  {
   "cell_type": "markdown",
   "metadata": {},
   "source": [
    "GET USER DEPOSIT LIMIT"
   ]
  },
  {
   "cell_type": "code",
   "execution_count": 8,
   "metadata": {},
   "outputs": [
    {
     "data": {
      "text/plain": [
       "[0]"
      ]
     },
     "execution_count": 8,
     "metadata": {},
     "output_type": "execute_result"
    }
   ],
   "source": [
    "args = []\n",
    "args.append(Address.new_from_bech32(\"erd1my8mcw2fhhsvgtzah7ntr9sdm9zxlamul6uhksyfcvzagemwad7qprplwz\"))\n",
    "contract.contract_query(proxy,deployer,\"getUserDepositLimit\",args)"
   ]
  }
 ],
 "metadata": {
  "kernelspec": {
   "display_name": ".venv",
   "language": "python",
   "name": "python3"
  },
  "language_info": {
   "codemirror_mode": {
    "name": "ipython",
    "version": 3
   },
   "file_extension": ".py",
   "mimetype": "text/x-python",
   "name": "python",
   "nbconvert_exporter": "python",
   "pygments_lexer": "ipython3",
   "version": "3.12.3"
  }
 },
 "nbformat": 4,
 "nbformat_minor": 2
}
