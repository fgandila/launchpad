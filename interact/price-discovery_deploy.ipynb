{
 "cells": [
  {
   "cell_type": "code",
   "execution_count": 2,
   "metadata": {},
   "outputs": [
    {
     "name": "stderr",
     "output_type": "stream",
     "text": [
      "\u001b[93m2025-02-12 12:04:35,318 - WARNING - Structure definition for stakings_boosted not found in /home/multiversx/Documents/mock_fwk/dex_deploy/configs-mainnet/deploy_structure.json\u001b[0m\n"
     ]
    },
    {
     "name": "stdout",
     "output_type": "stream",
     "text": [
      "loaded 1 accounts from 1 PEM files.\n"
     ]
    },
    {
     "name": "stderr",
     "output_type": "stream",
     "text": [
      "\u001b[38;20m2025-02-12 12:04:35,569 - DEBUG - Account.sync_nonce() done: 0\u001b[0m\n",
      "\u001b[38;20m2025-02-12 12:04:35,657 - DEBUG - Account.sync_nonce() done: 0\u001b[0m\n",
      "\u001b[92m2025-02-12 12:04:35,658 - INFO - Loaded 10 tokens.\u001b[0m\n",
      "\u001b[38;20m2025-02-12 12:04:35,745 - DEBUG - Account.sync_nonce() done: 0\u001b[0m\n",
      "\u001b[92m2025-02-12 12:04:35,745 - INFO - Loaded 0 stakings_boosted.\u001b[0m\n",
      "\u001b[38;20m2025-02-12 12:04:35,844 - DEBUG - Account.sync_nonce() done: 0\u001b[0m\n",
      "\u001b[92m2025-02-12 12:04:35,845 - INFO - Deployed contracts below:\u001b[0m\n",
      "\u001b[92m2025-02-12 12:04:35,845 - INFO - stakings_boosted:\u001b[0m\n"
     ]
    },
    {
     "name": "stdout",
     "output_type": "stream",
     "text": [
      "\n"
     ]
    }
   ],
   "source": [
    "import sys\n",
    "from pathlib import Path\n",
    "sys.path.append(str(Path.cwd().parent.absolute()))\n",
    "import config\n",
    "import time\n",
    "from context import Context\n",
    "from multiversx_sdk.core import Address, AddressComputer\n",
    "from multiversx_sdk.core import SmartContractTransactionsFactory\n",
    "from multiversx_sdk.core import TransactionsFactoryConfig\n",
    "from multiversx_sdk import ProxyNetworkProvider\n",
    "from multiversx_sdk.core import TokenPayment, TokenComputer\n",
    "from utils.utils_chain import WrapperAddress as Address, Account\n",
    "from utils.utils_tx import endpoint_call\n",
    "from contracts.price_discovery_contract import PriceDiscoveryContract\n",
    "from multiversx_sdk.abi import Abi\n",
    "\n",
    "context = Context()\n",
    "\n",
    "\n",
    "proxy = ProxyNetworkProvider(config.devnet)\n",
    "network_config = proxy.get_network_config()\n",
    "net = \"devnet\" if \"devnet\" in proxy.url else \"testnet\" if \"testnet\" in proxy.url else \"mainnet\"\n",
    "abi = Abi.load(Path(\n",
    "    \"/home/multiversx/Documents/mock_fwk/wasm/price-discovery/price-discovery.abi.json\"\n",
    "))\n",
    "factory = SmartContractTransactionsFactory(TransactionsFactoryConfig(network_config.chain_id), abi)\n",
    "\n",
    "factory_config = TransactionsFactoryConfig(network_config.chain_id)\n",
    "# transactions_factory = SmartContractTransactionsFactory(factory_config, abi)\n",
    "\n"
   ]
  },
  {
   "cell_type": "markdown",
   "metadata": {},
   "source": [
    "# SETUP"
   ]
  },
  {
   "cell_type": "code",
   "execution_count": 3,
   "metadata": {},
   "outputs": [
    {
     "name": "stderr",
     "output_type": "stream",
     "text": [
      "\u001b[38;20m2025-02-12 12:04:43,591 - DEBUG - Account.sync_nonce() done: 5605\u001b[0m\n"
     ]
    }
   ],
   "source": [
    "launched_token_id = \"TKNZPWA-f0763d\"\n",
    "accepted_token_id = \"TKNZPWA-a8b1bc\"\n",
    "\n",
    "user_min_deposit: int = 900000\n",
    "admin = \"erd1zpwadzzylule6njjtrrhf0hcysak23a76983tq6j7hddn66edr6q9qjytp\"\n",
    "\n",
    "deployer = Account(pem_file=config.DEFAULT_OWNER) \n",
    "deployer.sync_nonce(context.network_provider.proxy)\n",
    "deployer_shard = AddressComputer().get_shard_of_address(deployer.address)\n",
    "\n"
   ]
  },
  {
   "cell_type": "code",
   "execution_count": 4,
   "metadata": {},
   "outputs": [
    {
     "name": "stdout",
     "output_type": "stream",
     "text": [
      "Start round calculation below:\n",
      "Calculating from block: 7488101 round: 7559114 shard: 0\n",
      "Current date: 2025-02-12 12:04:44 (timestamp of last produced block)\n",
      "Target date: 2025-02-12 12:30:00\n",
      "Target time: 1739356200\n",
      "7559366\n",
      "===========================================\n",
      "User deposit end round calculation below:\n",
      "Calculating from block: 7488101 round: 7559114 shard: 0\n",
      "Current date: 2025-02-12 12:04:44 (timestamp of last produced block)\n",
      "Target date: 2025-02-12 16:00:00\n",
      "Target time: 1739368800\n",
      "7561466\n",
      "===========================================\n",
      "Owner deposit end round calculation below:\n",
      "Calculating from block: 7488101 round: 7559114 shard: 0\n",
      "Current date: 2025-02-12 12:04:44 (timestamp of last produced block)\n",
      "Target date: 2025-02-12 17:15:00\n",
      "Target time: 1739373300\n",
      "7562216\n"
     ]
    }
   ],
   "source": [
    "from utils import blocktime\n",
    "\n",
    "\n",
    "start_time: int = \"25/02/12 12:30\"\n",
    "user_deposit_withdraw_time: int = \"25/02/12 16:00\"\n",
    "owner_deposit_withdraw_time: int = \"25/02/12 17:15\"\n",
    "\n",
    "print(f\"Start round calculation below:\")\n",
    "_, start_round , start_timestamp = blocktime.main([f\"--net={net}\", f\"--shard={deployer_shard}\", f\"--date={start_time}\"])\n",
    "print(start_round)\n",
    "\n",
    "print(\"===========================================\")\n",
    "print(f\"User deposit end round calculation below:\")\n",
    "_, start_round, user_deposit_timestamp = blocktime.main([f\"--net={net}\", f\"--shard={deployer_shard}\", f\"--date={user_deposit_withdraw_time}\"])\n",
    "print(start_round)\n",
    "\n",
    "print(\"===========================================\")\n",
    "print(f\"Owner deposit end round calculation below:\")\n",
    "_, start_round, owner_deposit_timestamp = blocktime.main([f\"--net={net}\", f\"--shard={deployer_shard}\", f\"--date={owner_deposit_withdraw_time}\"])\n",
    "\n",
    "print(start_round)"
   ]
  },
  {
   "cell_type": "markdown",
   "metadata": {},
   "source": [
    "# DEPLOY"
   ]
  },
  {
   "cell_type": "code",
   "execution_count": 5,
   "metadata": {},
   "outputs": [
    {
     "name": "stdout",
     "output_type": "stream",
     "text": [
      "Contract deployed at address: erd1qqqqqqqqqqqqqpgqg9s9zp4ly82f6g9lhy2nm29uzf9uw87hdr6qsp5wvp\n"
     ]
    }
   ],
   "source": [
    "contract = PriceDiscoveryContract(launched_token_id, accepted_token_id,\"\",start_timestamp, user_deposit_timestamp, owner_deposit_timestamp,user_min_deposit,admin)\n",
    "args = [\n",
    "        launched_token_id, \n",
    "        accepted_token_id,\n",
    "        18,\n",
    "        start_timestamp,\n",
    "        user_deposit_timestamp,\n",
    "        owner_deposit_timestamp,\n",
    "        user_min_deposit,\n",
    "        deployer.address\n",
    "        ]\n",
    "# provider = ProxyNetworkProvider(config.DEFAULT_PROXY) \n",
    "# deployer.address = Address.from_bech32(\"erd1wwx5zhmx9mag9k8zuajj8c9zce6mzerfr3m9ck6l7c00dwkq2a2ssyfnzk\")\n",
    "# tx = contract.contract_deploy(deployer, context.network_provider.proxy, config.PRICE_DISCOVERY_BYTECODE_PATH, [])\n",
    "# tx = \"1b3dacf1507ef888a8f1bd86e2749d23ec7d3b83106f7cb608a961bb465116ba\"\n",
    "# tx_status = context.network_provider.check_simple_tx_status(tx)\n",
    "\n",
    "tx = factory.create_transaction_for_deploy(deployer.address, config.PRICE_DISCOVERY_BYTECODE_PATH, 150000000, arguments=args)\n",
    "tx.nonce = deployer.nonce\n",
    "tx.signature = deployer.sign_transaction(tx)\n",
    "\n",
    "hash = proxy.send_transaction(tx)\n",
    "deployer.nonce += 1\n",
    "time.sleep(6)\n",
    "if proxy.get_transaction_status(hash).is_failed():\n",
    "    raise Exception(f\"Transaction failed: {hash}\")\n",
    "\n",
    "receipt = proxy.get_transaction(hash)\n",
    "contract_address = receipt.logs.find_first_or_none_event(\"SCDeploy\").address\n",
    "\n",
    "print(f\"Contract deployed at address: {contract_address.to_bech32()}\")\n",
    "\n",
    "contract.address = contract_address.to_bech32()\n"
   ]
  },
  {
   "cell_type": "markdown",
   "metadata": {},
   "source": [
    "ISSUE REDEEM TOKENS"
   ]
  },
  {
   "cell_type": "code",
   "execution_count": 11,
   "metadata": {},
   "outputs": [],
   "source": [
    "redeem_token_name = \"REDEEM\""
   ]
  },
  {
   "cell_type": "code",
   "execution_count": 12,
   "metadata": {},
   "outputs": [
    {
     "name": "stderr",
     "output_type": "stream",
     "text": [
      "\u001b[92m2025-02-12 12:12:31,583 - INFO - Deployed price discovery contract: NotImplemented\u001b[0m\n",
      "\u001b[92m2025-02-12 12:12:31,584 - INFO -  ├ Redeem token: \u001b[0m\n",
      "\u001b[92m2025-02-12 12:12:31,584 - INFO -  ├ Start time: 1739356200\u001b[0m\n",
      "\u001b[92m2025-02-12 12:12:31,585 - INFO - Issue price discovery redeem token\u001b[0m\n"
     ]
    },
    {
     "ename": "TypeError",
     "evalue": "'NotImplementedType' object is not iterable",
     "output_type": "error",
     "traceback": [
      "\u001b[0;31m---------------------------------------------------------------------------\u001b[0m",
      "\u001b[0;31mTypeError\u001b[0m                                 Traceback (most recent call last)",
      "Cell \u001b[0;32mIn[12], line 5\u001b[0m\n\u001b[1;32m      2\u001b[0m \u001b[38;5;66;03m# contract.address = \"erd1qqqqqqqqqqqqqpgqg9s9zp4ly82f6g9lhy2nm29uzf9uw87hdr6qsp5wvp\"\u001b[39;00m\n\u001b[1;32m      3\u001b[0m contract\u001b[38;5;241m.\u001b[39mprint_contract_info()\n\u001b[0;32m----> 5\u001b[0m redeem_token \u001b[38;5;241m=\u001b[39m \u001b[43mcontract\u001b[49m\u001b[38;5;241;43m.\u001b[39;49m\u001b[43missue_redeem_token\u001b[49m\u001b[43m(\u001b[49m\u001b[43mdeployer\u001b[49m\u001b[43m,\u001b[49m\u001b[43m \u001b[49m\u001b[43mproxy\u001b[49m\u001b[43m,\u001b[49m\u001b[43m \u001b[49m\u001b[43mredeem_token_name\u001b[49m\u001b[43m)\u001b[49m\n\u001b[1;32m      6\u001b[0m \u001b[38;5;28mprint\u001b[39m(redeem_token)\n",
      "File \u001b[0;32m~/Documents/mock_fwk/contracts/price_discovery_contract.py:244\u001b[0m, in \u001b[0;36mPriceDiscoveryContract.issue_redeem_token\u001b[0;34m(self, deployer, proxy, redeem_token_ticker)\u001b[0m\n\u001b[1;32m    238\u001b[0m gas_limit \u001b[38;5;241m=\u001b[39m \u001b[38;5;241m100000000\u001b[39m\n\u001b[1;32m    239\u001b[0m sc_args \u001b[38;5;241m=\u001b[39m [\n\u001b[1;32m    240\u001b[0m     redeem_token_ticker,\n\u001b[1;32m    241\u001b[0m     redeem_token_ticker,\n\u001b[1;32m    242\u001b[0m     \u001b[38;5;241m18\u001b[39m,\n\u001b[1;32m    243\u001b[0m ]\n\u001b[0;32m--> 244\u001b[0m \u001b[38;5;28;01mreturn\u001b[39;00m endpoint_call(proxy, gas_limit, deployer, \u001b[43mAddress\u001b[49m\u001b[38;5;241;43m.\u001b[39;49m\u001b[43mfrom_bech32\u001b[49m\u001b[43m(\u001b[49m\u001b[38;5;28;43mself\u001b[39;49m\u001b[38;5;241;43m.\u001b[39;49m\u001b[43maddress\u001b[49m\u001b[43m)\u001b[49m, \u001b[38;5;124m\"\u001b[39m\u001b[38;5;124missueRedeemToken\u001b[39m\u001b[38;5;124m\"\u001b[39m, sc_args,\n\u001b[1;32m    245\u001b[0m                      value\u001b[38;5;241m=\u001b[39mconfig\u001b[38;5;241m.\u001b[39mDEFAULT_ISSUE_TOKEN_PRICE)\n",
      "File \u001b[0;32m~/Documents/mock_fwk/.venv/lib/python3.12/site-packages/multiversx_sdk/core/address.py:53\u001b[0m, in \u001b[0;36mAddress.from_bech32\u001b[0;34m(cls, value)\u001b[0m\n\u001b[1;32m     50\u001b[0m \u001b[38;5;129m@classmethod\u001b[39m\n\u001b[1;32m     51\u001b[0m \u001b[38;5;28;01mdef\u001b[39;00m\u001b[38;5;250m \u001b[39m\u001b[38;5;21mfrom_bech32\u001b[39m(\u001b[38;5;28mcls\u001b[39m, value: \u001b[38;5;28mstr\u001b[39m) \u001b[38;5;241m-\u001b[39m\u001b[38;5;241m>\u001b[39m \u001b[38;5;124m'\u001b[39m\u001b[38;5;124mAddress\u001b[39m\u001b[38;5;124m'\u001b[39m:\n\u001b[1;32m     52\u001b[0m \u001b[38;5;250m    \u001b[39m\u001b[38;5;124;03m\"\"\"The `from_bech32()` method is deprecated. Please use `new_from_bech32()` instead\"\"\"\u001b[39;00m\n\u001b[0;32m---> 53\u001b[0m     \u001b[38;5;28;01mreturn\u001b[39;00m \u001b[43mAddress\u001b[49m\u001b[38;5;241;43m.\u001b[39;49m\u001b[43mnew_from_bech32\u001b[49m\u001b[43m(\u001b[49m\u001b[43mvalue\u001b[49m\u001b[43m)\u001b[49m\n",
      "File \u001b[0;32m~/Documents/mock_fwk/.venv/lib/python3.12/site-packages/multiversx_sdk/core/address.py:47\u001b[0m, in \u001b[0;36mAddress.new_from_bech32\u001b[0;34m(cls, value)\u001b[0m\n\u001b[1;32m     41\u001b[0m \u001b[38;5;129m@classmethod\u001b[39m\n\u001b[1;32m     42\u001b[0m \u001b[38;5;28;01mdef\u001b[39;00m\u001b[38;5;250m \u001b[39m\u001b[38;5;21mnew_from_bech32\u001b[39m(\u001b[38;5;28mcls\u001b[39m, value: \u001b[38;5;28mstr\u001b[39m) \u001b[38;5;241m-\u001b[39m\u001b[38;5;241m>\u001b[39m \u001b[38;5;124m'\u001b[39m\u001b[38;5;124mAddress\u001b[39m\u001b[38;5;124m'\u001b[39m:\n\u001b[1;32m     43\u001b[0m \u001b[38;5;250m    \u001b[39m\u001b[38;5;124;03m\"\"\"Creates an address object from the bech32 representation of an address.\u001b[39;00m\n\u001b[1;32m     44\u001b[0m \n\u001b[1;32m     45\u001b[0m \u001b[38;5;124;03m    Args:\u001b[39;00m\n\u001b[1;32m     46\u001b[0m \u001b[38;5;124;03m        value (str): the bech32 address representation\"\"\"\u001b[39;00m\n\u001b[0;32m---> 47\u001b[0m     hrp, pubkey \u001b[38;5;241m=\u001b[39m \u001b[43m_decode_bech32\u001b[49m\u001b[43m(\u001b[49m\u001b[43mvalue\u001b[49m\u001b[43m)\u001b[49m\n\u001b[1;32m     48\u001b[0m     \u001b[38;5;28;01mreturn\u001b[39;00m \u001b[38;5;28mcls\u001b[39m(pubkey, hrp)\n",
      "File \u001b[0;32m~/Documents/mock_fwk/.venv/lib/python3.12/site-packages/multiversx_sdk/core/address.py:182\u001b[0m, in \u001b[0;36m_decode_bech32\u001b[0;34m(value)\u001b[0m\n\u001b[1;32m    181\u001b[0m \u001b[38;5;28;01mdef\u001b[39;00m\u001b[38;5;250m \u001b[39m\u001b[38;5;21m_decode_bech32\u001b[39m(value: \u001b[38;5;28mstr\u001b[39m) \u001b[38;5;241m-\u001b[39m\u001b[38;5;241m>\u001b[39m Tuple[\u001b[38;5;28mstr\u001b[39m, \u001b[38;5;28mbytes\u001b[39m]:\n\u001b[0;32m--> 182\u001b[0m     hrp, value_bytes \u001b[38;5;241m=\u001b[39m \u001b[43mbech32\u001b[49m\u001b[38;5;241;43m.\u001b[39;49m\u001b[43mbech32_decode\u001b[49m\u001b[43m(\u001b[49m\u001b[43mvalue\u001b[49m\u001b[43m)\u001b[49m\n\u001b[1;32m    183\u001b[0m     \u001b[38;5;28;01mif\u001b[39;00m hrp \u001b[38;5;129;01mis\u001b[39;00m \u001b[38;5;28;01mNone\u001b[39;00m \u001b[38;5;129;01mor\u001b[39;00m value_bytes \u001b[38;5;129;01mis\u001b[39;00m \u001b[38;5;28;01mNone\u001b[39;00m:\n\u001b[1;32m    184\u001b[0m         \u001b[38;5;28;01mraise\u001b[39;00m ErrBadAddress(value)\n",
      "File \u001b[0;32m~/Documents/mock_fwk/.venv/lib/python3.12/site-packages/multiversx_sdk/core/bech32.py:66\u001b[0m, in \u001b[0;36mbech32_decode\u001b[0;34m(bech)\u001b[0m\n\u001b[1;32m     64\u001b[0m \u001b[38;5;28;01mdef\u001b[39;00m\u001b[38;5;250m \u001b[39m\u001b[38;5;21mbech32_decode\u001b[39m(bech: \u001b[38;5;28mstr\u001b[39m):\n\u001b[1;32m     65\u001b[0m \u001b[38;5;250m    \u001b[39m\u001b[38;5;124;03m\"\"\"Validate a Bech32 string, and determine HRP and data.\"\"\"\u001b[39;00m\n\u001b[0;32m---> 66\u001b[0m     \u001b[38;5;28;01mif\u001b[39;00m ((\u001b[38;5;28many\u001b[39m\u001b[43m(\u001b[49m\u001b[38;5;28;43mord\u001b[39;49m\u001b[43m(\u001b[49m\u001b[43mx\u001b[49m\u001b[43m)\u001b[49m\u001b[43m \u001b[49m\u001b[38;5;241;43m<\u001b[39;49m\u001b[43m \u001b[49m\u001b[38;5;241;43m33\u001b[39;49m\u001b[43m \u001b[49m\u001b[38;5;129;43;01mor\u001b[39;49;00m\u001b[43m \u001b[49m\u001b[38;5;28;43mord\u001b[39;49m\u001b[43m(\u001b[49m\u001b[43mx\u001b[49m\u001b[43m)\u001b[49m\u001b[43m \u001b[49m\u001b[38;5;241;43m>\u001b[39;49m\u001b[43m \u001b[49m\u001b[38;5;241;43m126\u001b[39;49m\u001b[43m \u001b[49m\u001b[38;5;28;43;01mfor\u001b[39;49;00m\u001b[43m \u001b[49m\u001b[43mx\u001b[49m\u001b[43m \u001b[49m\u001b[38;5;129;43;01min\u001b[39;49;00m\u001b[43m \u001b[49m\u001b[43mbech\u001b[49m\u001b[43m)\u001b[49m) \u001b[38;5;129;01mor\u001b[39;00m (bech\u001b[38;5;241m.\u001b[39mlower() \u001b[38;5;241m!=\u001b[39m bech \u001b[38;5;129;01mand\u001b[39;00m bech\u001b[38;5;241m.\u001b[39mupper() \u001b[38;5;241m!=\u001b[39m bech)):\n\u001b[1;32m     67\u001b[0m         \u001b[38;5;28;01mreturn\u001b[39;00m (\u001b[38;5;28;01mNone\u001b[39;00m, \u001b[38;5;28;01mNone\u001b[39;00m)\n\u001b[1;32m     68\u001b[0m     bech \u001b[38;5;241m=\u001b[39m bech\u001b[38;5;241m.\u001b[39mlower()\n",
      "\u001b[0;31mTypeError\u001b[0m: 'NotImplementedType' object is not iterable"
     ]
    }
   ],
   "source": [
    "contract = PriceDiscoveryContract(launched_token_id, accepted_token_id,\"\",start_timestamp, user_deposit_timestamp, owner_deposit_timestamp,user_min_deposit,admin)\n",
    "# contract.address = \"erd1qqqqqqqqqqqqqpgqg9s9zp4ly82f6g9lhy2nm29uzf9uw87hdr6qsp5wvp\"\n",
    "contract.print_contract_info()\n",
    "\n",
    "contract.issue_redeem_token(deployer, proxy, redeem_token_name)\n",
    "# print(redeem_token)"
   ]
  },
  {
   "cell_type": "markdown",
   "metadata": {},
   "source": [
    "SET TRANSFER ROLE"
   ]
  },
  {
   "cell_type": "code",
   "execution_count": null,
   "metadata": {},
   "outputs": [
    {
     "name": "stderr",
     "output_type": "stream",
     "text": [
      "\u001b[38;20m2025-02-10 15:53:33,998 - DEBUG - Account.sync_nonce() done: 5599\u001b[0m\n"
     ]
    }
   ],
   "source": [
    "from multiversx_sdk import Address, TransactionComputer\n",
    "\n",
    "user = Account(pem_file=\"/home/multiversx/Documents/mock_fwk/wallet1.pem\")\n",
    "user.sync_nonce(proxy)\n",
    "contract_address=Address.new_from_bech32(\"erd1qqqqqqqqqqqqqpgqpwe5z60vqmnjluq7cqzdrs3gvsghsy09dr6qt8v32z\")\n",
    "\n",
    "set_transfer_role_farm_token_tx = factory.create_transaction_for_execute(\n",
    "    sender=user.address,\n",
    "    contract=contract_address,\n",
    "    function=\"setTransferRole\",\n",
    "    gas_limit=70000000,\n",
    ")\n",
    "\n",
    "set_transfer_role_farm_token_tx.nonce = user.nonce\n",
    "set_transfer_role_farm_token_tx.signature = user.signer.sign(\n",
    "    TransactionComputer().compute_bytes_for_signing(set_transfer_role_farm_token_tx)\n",
    ")\n",
    "\n",
    "result = proxy.send_transaction(set_transfer_role_farm_token_tx)"
   ]
  },
  {
   "cell_type": "markdown",
   "metadata": {},
   "source": [
    "SET MIN LAUNCHED TOKENS"
   ]
  },
  {
   "cell_type": "code",
   "execution_count": 35,
   "metadata": {},
   "outputs": [
    {
     "name": "stderr",
     "output_type": "stream",
     "text": [
      "\u001b[38;20m2025-02-10 15:57:18,270 - DEBUG - Account.sync_nonce() done: 5601\u001b[0m\n"
     ]
    }
   ],
   "source": [
    "from multiversx_sdk import Address, TransactionComputer\n",
    "\n",
    "user = Account(pem_file=\"/home/multiversx/Documents/mock_fwk/wallet1.pem\")\n",
    "user.sync_nonce(proxy)\n",
    "amount = 10000 * 10 ** 18\n",
    "contract_address=Address.new_from_bech32(\"erd1qqqqqqqqqqqqqpgqpwe5z60vqmnjluq7cqzdrs3gvsghsy09dr6qt8v32z\")\n",
    "# event = DepositPDLiquidityEvent(launched_token_id, amount)\n",
    "\n",
    "\n",
    "\n",
    "set_min_launched_tx = factory.create_transaction_for_execute(\n",
    "    sender=user.address,\n",
    "    contract=contract_address,\n",
    "    function=\"setMinLaunchedTokens\",\n",
    "    gas_limit=70000000,\n",
    "    arguments = [amount]\n",
    ")\n",
    "\n",
    "set_min_launched_tx.nonce = user.nonce\n",
    "set_min_launched_tx.signature = user.signer.sign(\n",
    "    TransactionComputer().compute_bytes_for_signing(set_min_launched_tx)\n",
    ")\n",
    "\n",
    "result = proxy.send_transaction(set_min_launched_tx)"
   ]
  },
  {
   "cell_type": "markdown",
   "metadata": {},
   "source": [
    "CHANGE OWNER"
   ]
  },
  {
   "cell_type": "code",
   "execution_count": 7,
   "metadata": {},
   "outputs": [
    {
     "name": "stderr",
     "output_type": "stream",
     "text": [
      "\u001b[38;20m2025-02-07 07:28:54,967 - DEBUG - Account.sync_nonce() done: 956\u001b[0m\n",
      "\u001b[38;20m2025-02-07 07:28:55,064 - DEBUG - Account.sync_nonce() done: 5589\u001b[0m\n",
      "\u001b[38;20m2025-02-07 07:28:55,236 - DEBUG - Account.sync_nonce() done: 5589\u001b[0m\n"
     ]
    }
   ],
   "source": [
    "second_owner = Account(pem_file=config.DEFAULT_ADMIN)\n",
    "second_owner.sync_nonce(proxy)\n",
    "\n",
    "first_owner = Account(pem_file=config.DEFAULT_OWNER)\n",
    "first_owner.sync_nonce(proxy)\n",
    "\n",
    "user = Account(pem_file=config.DEFAULT_ACCOUNTS)\n",
    "user.address = Address(\"erd1zpwadzzylule6njjtrrhf0hcysak23a76983tq6j7hddn66edr6q9qjytp\")\n",
    "user.sync_nonce(proxy)"
   ]
  },
  {
   "cell_type": "code",
   "execution_count": null,
   "metadata": {},
   "outputs": [],
   "source": [
    "hash = endpoint_call(proxy, 50000000, second_owner, contract_address, \n",
    "                     \"ChangeOwnerAddress\", [first_owner.address])"
   ]
  },
  {
   "cell_type": "markdown",
   "metadata": {},
   "source": [
    "# WHITELIST"
   ]
  },
  {
   "cell_type": "code",
   "execution_count": 11,
   "metadata": {},
   "outputs": [
    {
     "name": "stderr",
     "output_type": "stream",
     "text": [
      "\u001b[38;20m2025-02-10 15:33:32,127 - DEBUG - Account.sync_nonce() done: 5597\u001b[0m\n",
      "\u001b[92m2025-02-10 15:33:32,127 - INFO - Add user to whitelist\u001b[0m\n",
      "\u001b[38;20m2025-02-10 15:33:32,128 - DEBUG - Account: erd1zpwadzzylule6njjtrrhf0hcysak23a76983tq6j7hddn66edr6q9qjytp\u001b[0m\n"
     ]
    },
    {
     "data": {
      "text/plain": [
       "<multiversx_sdk.network_providers.transaction_status.TransactionStatus at 0x72a27f55c620>"
      ]
     },
     "execution_count": 11,
     "metadata": {},
     "output_type": "execute_result"
    }
   ],
   "source": [
    "whitelisted_address = \"erd1my8mcw2fhhsvgtzah7ntr9sdm9zxlamul6uhksyfcvzagemwad7qprplwz\"\n",
    "deployer.sync_nonce(proxy)\n",
    "contract.add_user_to_whitelist(proxy, deployer, whitelisted_address)"
   ]
  },
  {
   "cell_type": "markdown",
   "metadata": {},
   "source": [
    "# DEPOSIT"
   ]
  },
  {
   "cell_type": "code",
   "execution_count": 36,
   "metadata": {},
   "outputs": [
    {
     "name": "stderr",
     "output_type": "stream",
     "text": [
      "\u001b[38;20m2025-02-10 15:57:38,220 - DEBUG - Account.sync_nonce() done: 5602\u001b[0m\n",
      "\u001b[92m2025-02-10 15:57:38,221 - INFO - Deposit Price Discovery liquidity\u001b[0m\n",
      "\u001b[38;20m2025-02-10 15:57:38,221 - DEBUG - Account: erd1zpwadzzylule6njjtrrhf0hcysak23a76983tq6j7hddn66edr6q9qjytp\u001b[0m\n",
      "\u001b[38;20m2025-02-10 15:57:38,222 - DEBUG - Token: TKNZPWA-f0763d Amount: 10000000000000000000000\u001b[0m\n",
      "\u001b[38;20m2025-02-10 15:57:38,222 - DEBUG - Deposit Price Discovery liquidity\u001b[0m\n",
      "\u001b[38;20m2025-02-10 15:57:38,309 - DEBUG - Contract call arguments: []\u001b[0m\n",
      "The transaction builders are deprecated and will be removed in a later release. Use the transaction factories instead.\n",
      "\u001b[92m2025-02-10 15:57:38,423 - INFO - View this transaction in the MultiversX Devnet Explorer: https://devnet-explorer.multiversx.com/transactions/173521d8aeaf7e29f2978ca23316980cc26a495e9ff7828021a7a567cc6d3560\u001b[0m\n"
     ]
    },
    {
     "data": {
      "text/plain": [
       "'173521d8aeaf7e29f2978ca23316980cc26a495e9ff7828021a7a567cc6d3560'"
      ]
     },
     "execution_count": 36,
     "metadata": {},
     "output_type": "execute_result"
    }
   ],
   "source": [
    "from events.price_discovery_events import DepositPDLiquidityEvent\n",
    "\n",
    "user = Account(pem_file=\"/home/multiversx/Documents/mock_fwk/wallet1.pem\")\n",
    "user.sync_nonce(proxy)\n",
    "amount = 10000 * 10 ** 18\n",
    "event = DepositPDLiquidityEvent(launched_token_id, amount)\n",
    "\n",
    "contract.deposit_liquidity(context.network_provider.proxy, user, event)"
   ]
  },
  {
   "cell_type": "markdown",
   "metadata": {},
   "source": [
    "USER DEPOSIT"
   ]
  },
  {
   "cell_type": "code",
   "execution_count": 11,
   "metadata": {},
   "outputs": [
    {
     "name": "stderr",
     "output_type": "stream",
     "text": [
      "\u001b[38;20m2025-02-10 16:12:03,220 - DEBUG - Account.sync_nonce() done: 1031\u001b[0m\n",
      "\u001b[92m2025-02-10 16:12:03,221 - INFO - Deposit accepted token\u001b[0m\n",
      "\u001b[38;20m2025-02-10 16:12:03,222 - DEBUG - Account: erd1my8mcw2fhhsvgtzah7ntr9sdm9zxlamul6uhksyfcvzagemwad7qprplwz\u001b[0m\n",
      "\u001b[38;20m2025-02-10 16:12:03,222 - DEBUG - Token: TKNZPWA-a8b1bc Amount: 10000000000000000000000\u001b[0m\n",
      "\u001b[38;20m2025-02-10 16:12:03,223 - DEBUG - Deposit accepted token\u001b[0m\n",
      "\u001b[38;20m2025-02-10 16:12:03,387 - DEBUG - Contract call arguments: []\u001b[0m\n",
      "The transaction builders are deprecated and will be removed in a later release. Use the transaction factories instead.\n",
      "\u001b[92m2025-02-10 16:12:03,499 - INFO - View this transaction in the MultiversX Devnet Explorer: https://devnet-explorer.multiversx.com/transactions/97f34100860adca6f2b09944f9f984b2a8500ea60aa79856fca494ed416974a1\u001b[0m\n"
     ]
    },
    {
     "data": {
      "text/plain": [
       "'97f34100860adca6f2b09944f9f984b2a8500ea60aa79856fca494ed416974a1'"
      ]
     },
     "execution_count": 11,
     "metadata": {},
     "output_type": "execute_result"
    }
   ],
   "source": [
    "from events.price_discovery_events import DepositPDLiquidityEvent\n",
    "\n",
    "user = Account(pem_file=\"/home/multiversx/Documents/mock_fwk/wallet2.pem\")\n",
    "user.sync_nonce(proxy)\n",
    "amount = 10000 * 10 ** 18\n",
    "event = DepositPDLiquidityEvent(accepted_token_id, amount)\n",
    "\n",
    "contract.user_deposit(context.network_provider.proxy, user, event)"
   ]
  },
  {
   "cell_type": "markdown",
   "metadata": {},
   "source": [
    "USER WITHDRAW"
   ]
  },
  {
   "cell_type": "code",
   "execution_count": 12,
   "metadata": {},
   "outputs": [
    {
     "name": "stderr",
     "output_type": "stream",
     "text": [
      "\u001b[38;20m2025-02-10 16:12:31,535 - DEBUG - Account.sync_nonce() done: 1032\u001b[0m\n",
      "\u001b[92m2025-02-10 16:12:31,536 - INFO - Withdraw accepted token\u001b[0m\n",
      "\u001b[38;20m2025-02-10 16:12:31,536 - DEBUG - Account: erd1my8mcw2fhhsvgtzah7ntr9sdm9zxlamul6uhksyfcvzagemwad7qprplwz\u001b[0m\n",
      "\u001b[38;20m2025-02-10 16:12:31,537 - DEBUG - Token: REDEEM-46eed7 Nonce: 0 Amount: 20000000000000000000000\u001b[0m\n",
      "\u001b[38;20m2025-02-10 16:12:31,537 - DEBUG - Withdraw accepted token\u001b[0m\n",
      "\u001b[38;20m2025-02-10 16:12:31,666 - DEBUG - Contract call arguments: []\u001b[0m\n",
      "The transaction builders are deprecated and will be removed in a later release. Use the transaction factories instead.\n",
      "\u001b[92m2025-02-10 16:12:31,777 - INFO - View this transaction in the MultiversX Devnet Explorer: https://devnet-explorer.multiversx.com/transactions/b965d5d15af80b8558abbf115eaf083be3874e94429a8311f584b5ff2b9f8238\u001b[0m\n"
     ]
    },
    {
     "data": {
      "text/plain": [
       "'b965d5d15af80b8558abbf115eaf083be3874e94429a8311f584b5ff2b9f8238'"
      ]
     },
     "execution_count": 12,
     "metadata": {},
     "output_type": "execute_result"
    }
   ],
   "source": [
    "from events.price_discovery_events import WithdrawPDLiquidityEvent\n",
    "# contract.address=Address.new_from_bech32(\"erd1qqqqqqqqqqqqqpgqpwe5z60vqmnjluq7cqzdrs3gvsghsy09dr6qt8v32z\")\n",
    "\n",
    "user = Account(pem_file=\"/home/multiversx/Documents/mock_fwk/wallet2.pem\")\n",
    "user.sync_nonce(proxy)\n",
    "amount = 20000 * 10 ** 18\n",
    "\n",
    "\n",
    "event = WithdrawPDLiquidityEvent(\"REDEEM-46eed7\",0, amount)\n",
    "\n",
    "contract.user_withdraw(context.network_provider.proxy, user, event)"
   ]
  },
  {
   "cell_type": "markdown",
   "metadata": {},
   "source": [
    "WITHDRAW TOKENS"
   ]
  },
  {
   "cell_type": "code",
   "execution_count": null,
   "metadata": {},
   "outputs": [],
   "source": []
  },
  {
   "cell_type": "markdown",
   "metadata": {},
   "source": [
    "# SEND TOKENS"
   ]
  },
  {
   "cell_type": "code",
   "execution_count": 10,
   "metadata": {},
   "outputs": [
    {
     "name": "stderr",
     "output_type": "stream",
     "text": [
      "\u001b[38;20m2025-02-10 16:11:43,857 - DEBUG - Account.sync_nonce() done: 5603\u001b[0m\n",
      "\u001b[38;20m2025-02-10 16:11:43,858 - DEBUG - Sending multi esdt transfer to erd1my8mcw2fhhsvgtzah7ntr9sdm9zxlamul6uhksyfcvzagemwad7qprplwz\u001b[0m\n",
      "\u001b[38;20m2025-02-10 16:11:43,858 - DEBUG - Args: [<utils.utils_tx.ESDTToken object at 0x7cd95a0b70b0>]\u001b[0m\n",
      "The transaction builders are deprecated and will be removed in a later release. Use the transaction factories instead.\n",
      "'MultiESDTNFTTransferBuilder' is deprecated and will soon be removed. Please use 'TransferTransactionsFactory' instead.\n",
      "\u001b[92m2025-02-10 16:11:44,079 - INFO - View this transaction in the MultiversX Devnet Explorer: https://devnet-explorer.multiversx.com/transactions/e48fc0e1a157ac853e6c4153ee78ff9205da8874ce68fe183852c7e260021555\u001b[0m\n"
     ]
    },
    {
     "data": {
      "text/plain": [
       "'e48fc0e1a157ac853e6c4153ee78ff9205da8874ce68fe183852c7e260021555'"
      ]
     },
     "execution_count": 10,
     "metadata": {},
     "output_type": "execute_result"
    }
   ],
   "source": [
    "from utils.utils_chain import Account, WrapperAddress\n",
    "from utils.utils_tx import ESDTToken, multi_esdt_transfer\n",
    "\n",
    "# sender = Account(pem_file=config.DEFAULT_ACCOUNTS)\n",
    "\n",
    "# sender.address = WrapperAddress('erd1q3yux0lm7vyutdxyrq7ad762mavurxpuhtuxlwau06eqyr49yknqh6vkk2')\n",
    "receiver = WrapperAddress('erd1my8mcw2fhhsvgtzah7ntr9sdm9zxlamul6uhksyfcvzagemwad7qprplwz')\n",
    "\n",
    "tokens = [\n",
    "    ESDTToken('TKNZPWA-a8b1bc', 0, 10000000000000000000000),\n",
    "]\n",
    "\n",
    "deployer.sync_nonce(context.network_provider.proxy)\n",
    "multi_esdt_transfer(context.network_provider.proxy, 1000000, deployer, receiver, tokens)"
   ]
  }
 ],
 "metadata": {
  "kernelspec": {
   "display_name": ".venv",
   "language": "python",
   "name": "python3"
  },
  "language_info": {
   "codemirror_mode": {
    "name": "ipython",
    "version": 3
   },
   "file_extension": ".py",
   "mimetype": "text/x-python",
   "name": "python",
   "nbconvert_exporter": "python",
   "pygments_lexer": "ipython3",
   "version": "3.12.3"
  }
 },
 "nbformat": 4,
 "nbformat_minor": 2
}
