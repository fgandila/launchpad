{
 "cells": [
  {
   "cell_type": "code",
   "execution_count": 2,
   "metadata": {},
   "outputs": [
    {
     "name": "stderr",
     "output_type": "stream",
     "text": [
      "\u001b[93m2025-02-10 19:54:06,098 - WARNING - Structure definition for stakings_boosted not found in /home/multiversx/Documents/mock_fwk/dex_deploy/configs-mainnet/deploy_structure.json\u001b[0m\n"
     ]
    },
    {
     "name": "stdout",
     "output_type": "stream",
     "text": [
      "loaded 1 accounts from 1 PEM files.\n"
     ]
    },
    {
     "name": "stderr",
     "output_type": "stream",
     "text": [
      "\u001b[38;20m2025-02-10 19:54:06,991 - DEBUG - Account.sync_nonce() done: 0\u001b[0m\n",
      "\u001b[38;20m2025-02-10 19:54:07,254 - DEBUG - Account.sync_nonce() done: 0\u001b[0m\n",
      "\u001b[92m2025-02-10 19:54:07,255 - INFO - Loaded 10 tokens.\u001b[0m\n",
      "\u001b[38;20m2025-02-10 19:54:07,560 - DEBUG - Account.sync_nonce() done: 0\u001b[0m\n",
      "\u001b[92m2025-02-10 19:54:07,561 - INFO - Loaded 0 stakings_boosted.\u001b[0m\n",
      "\u001b[38;20m2025-02-10 19:54:07,849 - DEBUG - Account.sync_nonce() done: 0\u001b[0m\n",
      "\u001b[92m2025-02-10 19:54:07,850 - INFO - Deployed contracts below:\u001b[0m\n",
      "\u001b[92m2025-02-10 19:54:07,850 - INFO - stakings_boosted:\u001b[0m\n"
     ]
    },
    {
     "name": "stdout",
     "output_type": "stream",
     "text": [
      "\n"
     ]
    }
   ],
   "source": [
    "import sys\n",
    "from pathlib import Path\n",
    "\n",
    "sys.path.append(str(Path.cwd().parent.absolute()))\n",
    "import config\n",
    "import yaml\n",
    "\n",
    "from context import Context\n",
    "from utils.utils_chain import WrapperAddress as Address, Account, hex_to_string\n",
    "from utils.utils_chain import nominated_amount\n",
    "from utils.contract_retrievers import retrieve_farm_by_address\n",
    "from utils.utils_chain import get_token_details_for_address, get_all_token_nonces_details_for_account\n",
    "from utils.utils_tx import ESDTToken\n",
    "from contracts.guild_contract import GuildContract\n",
    "from utilities import get_default_data\n",
    "\n",
    "context = Context()\n",
    "\n",
    "# (\n",
    "#     configuration,\n",
    "#     test_address,\n",
    "#     guild_factory_address,\n",
    "#     provider,\n",
    "#     network_config,\n",
    "#     signer,\n",
    "#     nonce_holder,\n",
    "#     sc_factory,\n",
    "# ) = get_default_data()"
   ]
  },
  {
   "cell_type": "code",
   "execution_count": 3,
   "metadata": {},
   "outputs": [
    {
     "name": "stdout",
     "output_type": "stream",
     "text": [
      "0\n",
      "0\n",
      "0\n",
      "\n",
      "\n",
      "\n",
      "\n",
      "0\n",
      "0\n",
      "0\n",
      "ok\n",
      "\n",
      "[namespace(milestones=[namespace(release_round=23845354, percentage=3334), namespace(release_round=23846854, percentage=1111), namespace(release_round=23859475, percentage=1111), namespace(release_round=23873984, percentage=1111), namespace(release_round=23888394, percentage=1111), namespace(release_round=23902805, percentage=1111), namespace(release_round=23917214, percentage=1111)])]\n"
     ]
    }
   ],
   "source": [
    "from multiversx_sdk import ContractQueryBuilder, QueryRunnerAdapter, SmartContractQueriesController, SmartContractTransactionsFactory, TransactionsFactoryConfig\n",
    "from utilities import StakingFarmTokenAttributes, get_default_data\n",
    "from utils import contract_retrievers\n",
    "from utils.utils_chain import Account, WrapperAddress as Address, base64_to_hex, decode_merged_attributes, get_all_token_nonces_details_for_account\n",
    "from utils.decoding_structures import FARM_TOKEN_ATTRIBUTES\n",
    "from utils.contract_data_fetchers import LaunchpadContractDataFetcher\n",
    "from multiversx_sdk.abi import Abi\n",
    "from multiversx_sdk.network_providers import ProxyNetworkProvider\n",
    "from utilities import get_default_data\n",
    "\n",
    "# (\n",
    "#     configuration,\n",
    "#     test_address,\n",
    "#     guild_factory_address,\n",
    "#     provider,\n",
    "#     network_config,\n",
    "#     signer,\n",
    "#     nonce_holder,\n",
    "#     sc_factory,\n",
    "# ) = get_default_data()\n",
    "\n",
    "launchpad_contract_address = Address.from_bech32(\"erd1qqqqqqqqqqqqqpgqynuef6g70kxjcamj3x5pdueqhr0ccw2ey6eqw8cs7w\")\n",
    "\n",
    "user = Account(pem_file=\"/home/multiversx/Documents/mx-launchpad-scripts/mx-launchpad-scripts/control/outputs/user2.pem\")\n",
    "user.address = Address.from_bech32(\"erd1pyzp3j0pr7eff5pr6xvh2fe2yk0zz72ng5d9eduvr3rd7tj8f77qhk2r25\")\n",
    "\n",
    "confirmed_tickets_for_address = LaunchpadContractDataFetcher(launchpad_contract_address,context.network_provider.proxy.url).get_data(\"getNumberOfConfirmedTicketsForAddress\", [user.address])\n",
    "total_tickets_for_user = LaunchpadContractDataFetcher(launchpad_contract_address,context.network_provider.proxy.url).get_data(\"getTotalNumberOfTicketsForAddress\", [user.address])\n",
    "total_tickets = LaunchpadContractDataFetcher(launchpad_contract_address,context.network_provider.proxy.url).get_data(\"getTotalNumberOfTickets\")\n",
    "launchpad_token_id = LaunchpadContractDataFetcher(launchpad_contract_address,context.network_provider.proxy.url).get_data(\"getLaunchpadTokenId\")\n",
    "launch_stage_flags = LaunchpadContractDataFetcher(launchpad_contract_address,context.network_provider.proxy.url).get_data(\"getLaunchStageFlags\")\n",
    "user_ticket_status = LaunchpadContractDataFetcher(launchpad_contract_address,context.network_provider.proxy.url).get_data(\"getUserTicketsStatus\", [user.address])\n",
    "unlock_schedule = LaunchpadContractDataFetcher(launchpad_contract_address,context.network_provider.proxy.url).get_data(\"getUnlockSchedule\")\n",
    "user_claimed_balance = LaunchpadContractDataFetcher(launchpad_contract_address,context.network_provider.proxy.url).get_data(\"getUserClaimedBalance\", [user.address])\n",
    "user_total_claimable_balance = LaunchpadContractDataFetcher(launchpad_contract_address,context.network_provider.proxy.url).get_data(\"getUserTotalClaimableBalance\", [user.address])\n",
    "claimable_tokens = LaunchpadContractDataFetcher(launchpad_contract_address,context.network_provider.proxy.url).get_data(\"getClaimableTokens\", [user.address])\n",
    "\n",
    "# attributes = StakingFarmTokenAttributes(rewards_per_share, compounded_reward, current_farm_amount)\n",
    "print(confirmed_tickets_for_address)\n",
    "print(total_tickets_for_user)\n",
    "print(total_tickets)\n",
    "print(launchpad_token_id)\n",
    "print(launch_stage_flags)\n",
    "print(user_ticket_status)\n",
    "print(unlock_schedule)\n",
    "print(user_claimed_balance)\n",
    "print(user_total_claimable_balance)\n",
    "print(claimable_tokens)\n",
    "\n",
    "\n",
    "# deploy_config_sc_data = serializer.serialize_to_parts([attributes, BytesValue(bytecode)])\n",
    "abi = Abi.load(Path(\n",
    "    \"/home/multiversx/Documents/mock_fwk/wasm/launchpad-guaranteed-tickets-v2-upgrade/launchpad-guaranteed-tickets-v2.abi.json\"\n",
    "))\n",
    "\n",
    "query_runner = QueryRunnerAdapter(ProxyNetworkProvider(\"https://proxy-shadowfork-four.elrond.ro\"))\n",
    "query_controller = SmartContractQueriesController(query_runner, abi)\n",
    "\n",
    "args=[]\n",
    "\n",
    "provider = ProxyNetworkProvider(\"https://proxy-shadowfork-four.elrond.ro\")\n",
    "\n",
    "\n",
    "builder = query_controller.create_query(\n",
    "        contract=launchpad_contract_address.to_bech32(),\n",
    "        function=\"getUnlockSchedule\",\n",
    "        arguments=args,\n",
    "        caller=user.address.to_bech32(),\n",
    "    )\n",
    "\n",
    "query = query_controller.run_query(builder)\n",
    "\n",
    "print(query.return_code)\n",
    "print(query.return_message)\n",
    "data_parts = query_controller.parse_query_response(query)\n",
    "print(data_parts)\n"
   ]
  },
  {
   "cell_type": "markdown",
   "metadata": {},
   "source": [
    "TOTAL TICKETS FOR ADDRESS"
   ]
  },
  {
   "cell_type": "code",
   "execution_count": 4,
   "metadata": {},
   "outputs": [
    {
     "name": "stdout",
     "output_type": "stream",
     "text": [
      "[0]\n"
     ]
    }
   ],
   "source": [
    "args=[user.address]\n",
    "\n",
    "builder = query_controller.create_query(\n",
    "        contract=launchpad_contract_address.to_bech32(),\n",
    "        function=\"getTotalNumberOfTicketsForAddress\",\n",
    "        arguments=args,\n",
    "        caller=user.address.to_bech32(),\n",
    "    )\n",
    "\n",
    "query = query_controller.run_query(builder)\n",
    "data_parts = query_controller.parse_query_response(query)\n",
    "print(data_parts)"
   ]
  },
  {
   "cell_type": "markdown",
   "metadata": {},
   "source": [
    "USER CLAIMABLE BALANCE"
   ]
  },
  {
   "cell_type": "code",
   "execution_count": 5,
   "metadata": {},
   "outputs": [
    {
     "name": "stdout",
     "output_type": "stream",
     "text": [
      "[0]\n"
     ]
    }
   ],
   "source": [
    "user.address = Address.from_bech32(\"erd1g676agkek3r576w5ltanv3w3z6cysmek23hp0pcyvrflk7hlgxpq25vc2c\")\n",
    "\n",
    "args=[user.address]\n",
    "\n",
    "builder = query_controller.create_query(\n",
    "        contract=launchpad_contract_address.to_bech32(),\n",
    "        function=\"getUserTotalClaimableBalance\",\n",
    "        arguments=args,\n",
    "        caller=user.address.to_bech32(),\n",
    "    )\n",
    "\n",
    "query = query_controller.run_query(builder)\n",
    "data_parts = query_controller.parse_query_response(query)\n",
    "print(data_parts)"
   ]
  },
  {
   "cell_type": "markdown",
   "metadata": {},
   "source": [
    "USER CLAIMED BALANCE"
   ]
  },
  {
   "cell_type": "code",
   "execution_count": null,
   "metadata": {},
   "outputs": [],
   "source": [
    "args=[user.address]\n",
    "\n",
    "builder = query_controller.create_query(\n",
    "        contract=launchpad_contract_address.to_bech32(),\n",
    "        function=\"getUserClaimedBalance\",\n",
    "        arguments=args,\n",
    "        caller=user.address.to_bech32(),\n",
    "    )\n",
    "\n",
    "query = query_controller.run_query(builder)\n",
    "data_parts = query_controller.parse_query_response(query)\n",
    "print(data_parts)"
   ]
  },
  {
   "cell_type": "markdown",
   "metadata": {},
   "source": [
    "CLAIMABLE TOKENS FOR USER"
   ]
  },
  {
   "cell_type": "code",
   "execution_count": null,
   "metadata": {},
   "outputs": [],
   "source": [
    "args=[user.address]\n",
    "\n",
    "builder = query_controller.create_query(\n",
    "        contract=launchpad_contract_address.to_bech32(),\n",
    "        function=\"getClaimableTokens\",\n",
    "        arguments=args,\n",
    "        caller=user.address.to_bech32(),\n",
    "    )\n",
    "\n",
    "query = query_controller.run_query(builder)\n",
    "data_parts = query_controller.parse_query_response(query)\n",
    "print(data_parts)"
   ]
  },
  {
   "cell_type": "markdown",
   "metadata": {},
   "source": [
    "LAUNCH STAGES"
   ]
  },
  {
   "cell_type": "code",
   "execution_count": null,
   "metadata": {},
   "outputs": [],
   "source": [
    "args=[]\n",
    "\n",
    "builder = query_controller.create_query(\n",
    "        contract=launchpad_contract_address.to_bech32(),\n",
    "        function=\"getLaunchStageFlags\",\n",
    "        arguments=args,\n",
    "        caller=user.address.to_bech32(),\n",
    "    )\n",
    "\n",
    "query = query_controller.run_query(builder)\n",
    "data_parts = query_controller.parse_query_response(query)\n",
    "print(data_parts)"
   ]
  },
  {
   "cell_type": "markdown",
   "metadata": {},
   "source": [
    "LAUNCHPAD TOKEN ID"
   ]
  },
  {
   "cell_type": "code",
   "execution_count": null,
   "metadata": {},
   "outputs": [],
   "source": [
    "args=[]\n",
    "\n",
    "builder = query_controller.create_query(\n",
    "        contract=launchpad_contract_address.to_bech32(),\n",
    "        function=\"getLaunchpadTokenId\",\n",
    "        arguments=args,\n",
    "        caller=user.address.to_bech32(),\n",
    "    )\n",
    "\n",
    "query = query_controller.run_query(builder)\n",
    "data_parts = query_controller.parse_query_response(query)\n",
    "print(data_parts)"
   ]
  },
  {
   "cell_type": "markdown",
   "metadata": {},
   "source": [
    "# REFUND WINNING TICKETS"
   ]
  },
  {
   "cell_type": "code",
   "execution_count": 5,
   "metadata": {},
   "outputs": [
    {
     "name": "stderr",
     "output_type": "stream",
     "text": [
      "\u001b[38;20m2025-02-10 14:30:33,926 - DEBUG - Account.sync_nonce() done: 712\u001b[0m\n",
      "\u001b[38;20m2025-02-10 14:30:34,010 - DEBUG - Account.sync_nonce() done: 1019\u001b[0m\n"
     ]
    },
    {
     "name": "stdout",
     "output_type": "stream",
     "text": [
      "7754e46e637cd52b5ecc0f451cab77efbd6f2b9a2b300a6d2c0c2fe6eae3f328\n"
     ]
    }
   ],
   "source": [
    "from typing import Any\n",
    "\n",
    "# provider = ProxyNetworkProvider(\"https://proxy-shadowfork-four.elrond.ro\")\n",
    "provider = ProxyNetworkProvider(\"https://devnet-gateway.multiversx.com\")\n",
    "\n",
    "factory_config = TransactionsFactoryConfig(provider.get_network_config().chain_id)\n",
    "transactions_factory = SmartContractTransactionsFactory(factory_config, abi)\n",
    "\n",
    "\n",
    "contract_address = Address.from_bech32(\"erd1qqqqqqqqqqqqqpgqwt4kxdpnvwr4ufw0yd8238knwu49mt0jad7qvd3jzn\")\n",
    "\n",
    "# admin = Account(pem_file=\"/home/multiversx/Documents/mock_fwk/defi-wallet.pem\")\n",
    "admin = Account(pem_file=\"/home/multiversx/Documents/mx-launchpad-scripts/mx-launchpad-scripts/control/outputs/owner.pem\")\n",
    "# admin.address = Address.from_bech32(\"erd1xdw86u8zmk7vu88263uze5ncd8qsdzxhqdnfvpq62zg0u4x4k7ls4sk4jy\")\n",
    "\n",
    "\n",
    "user2 = Account(pem_file=\"/home/multiversx/Documents/mx-launchpad-scripts/mx-launchpad-scripts/control/outputs/user2.pem\")\n",
    "# user2.address = Address.from_bech32(\"erd1g676agkek3r576w5ltanv3w3z6cysmek23hp0pcyvrflk7hlgxpq25vc2c\")\n",
    "user2.sync_nonce(provider)\n",
    "\n",
    "\n",
    "\n",
    "args: list[list[Any]] = []\n",
    "\n",
    "# lista = [user2.address]\n",
    "args.append(user2.address)\n",
    "\n",
    "value = 10 * 10 ** 18\n",
    "tx = transactions_factory.create_transaction_for_execute(admin.address, contract_address, \"refundWinningTickets\", 200000000, [args], value)\n",
    "admin.sync_nonce(provider)\n",
    "tx.nonce = admin.nonce\n",
    "tx.signature = admin.sign_transaction(tx)\n",
    "hash = provider.send_transaction(tx)\n",
    "print(hash)\n",
    "admin.nonce += 1"
   ]
  }
 ],
 "metadata": {
  "kernelspec": {
   "display_name": ".venv",
   "language": "python",
   "name": "python3"
  },
  "language_info": {
   "codemirror_mode": {
    "name": "ipython",
    "version": 3
   },
   "file_extension": ".py",
   "mimetype": "text/x-python",
   "name": "python",
   "nbconvert_exporter": "python",
   "pygments_lexer": "ipython3",
   "version": "3.12.3"
  }
 },
 "nbformat": 4,
 "nbformat_minor": 2
}
